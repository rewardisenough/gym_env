{
 "cells": [
  {
   "cell_type": "code",
   "execution_count": null,
   "id": "c7bdd0f4-83e6-4762-9b3f-d6e380c13f84",
   "metadata": {},
   "outputs": [],
   "source": [
    "import ray \n",
    "\n",
    "ray.init(num_gpus=1)"
   ]
  },
  {
   "cell_type": "code",
   "execution_count": null,
   "id": "03928e17-62ae-4909-8053-bc1c87fe0200",
   "metadata": {},
   "outputs": [],
   "source": [
    "import ray\n",
    "from ray.rllib.agents.ppo import PPOTrainer\n",
    "config = {\n",
    "    \"env\": \"Acrobot-v1\",\n",
    "    \"num_gpus\":1,\n",
    "}\n",
    "stop = {\"episode_reward_mean\": -100}\n",
    "ray.shutdown()\n",
    "ray.init(\n",
    "  num_gpus=1,\n",
    "  include_dashboard=False,\n",
    "  ignore_reinit_error=True,\n",
    "  log_to_driver=False,\n",
    ")\n",
    "# execute training \n",
    "analysis = ray.tune.run(\n",
    "  \"PPO\",\n",
    "  config=config,\n",
    "  stop=stop,\n",
    "  checkpoint_at_end=True,\n",
    "  local_dir=\"Acrobot_v1\"  \n",
    ")"
   ]
  },
  {
   "cell_type": "code",
   "execution_count": null,
   "id": "fac89a4c-a2ee-4867-a4ee-696e1d521eed",
   "metadata": {},
   "outputs": [],
   "source": [
    "# restore a trainer from the last checkpoint\n",
    "trial = analysis.get_best_logdir(\"episode_reward_mean\", \"max\")\n",
    "checkpoint = analysis.get_best_checkpoint(\n",
    "  trial,\n",
    "  \"training_iteration\",\n",
    "  \"max\",\n",
    ")\n",
    "trainer = PPOTrainer(config=config)\n",
    "trainer.restore(checkpoint)"
   ]
  },
  {
   "cell_type": "code",
   "execution_count": null,
   "id": "90b98772-5e29-4c35-883e-736afd643dae",
   "metadata": {},
   "outputs": [],
   "source": [
    "import gym\n",
    "from gym.wrappers import RecordVideo\n",
    "\n",
    "env = RecordVideo(gym.make(\"Acrobot-v1\"),\"ppo_video\")\n",
    "obs = env.reset()\n",
    "\n",
    "while True:\n",
    "    action = trainer.compute_action(obs)\n",
    "    obs,reward,done, _ = env.step(action)\n",
    "    if done:\n",
    "        break\n",
    "env.close()"
   ]
  },
  {
   "cell_type": "code",
   "execution_count": null,
   "id": "d8aec69b-6455-4508-b51b-d9cc87bf402c",
   "metadata": {},
   "outputs": [],
   "source": []
  },
  {
   "cell_type": "code",
   "execution_count": null,
   "id": "42a7ca5f-9d23-4834-beb8-6ae4a5b05015",
   "metadata": {},
   "outputs": [],
   "source": []
  }
 ],
 "metadata": {
  "kernelspec": {
   "display_name": "Python 3 (ipykernel)",
   "language": "python",
   "name": "python3"
  },
  "language_info": {
   "codemirror_mode": {
    "name": "ipython",
    "version": 3
   },
   "file_extension": ".py",
   "mimetype": "text/x-python",
   "name": "python",
   "nbconvert_exporter": "python",
   "pygments_lexer": "ipython3",
   "version": "3.8.13"
  }
 },
 "nbformat": 4,
 "nbformat_minor": 5
}
