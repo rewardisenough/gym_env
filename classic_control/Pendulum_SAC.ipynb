{
 "cells": [
  {
   "cell_type": "code",
   "execution_count": null,
   "id": "63c18541-4bbf-471b-b55c-747431920c5b",
   "metadata": {},
   "outputs": [],
   "source": [
    "import ray \n",
    "\n",
    "ray.init(num_gpus=1)"
   ]
  },
  {
   "cell_type": "code",
   "execution_count": null,
   "id": "48787581-5643-414b-808e-6481f2a7e181",
   "metadata": {},
   "outputs": [],
   "source": [
    "import ray\n",
    "config = {\n",
    "    \"env\": \"Pendulum-v1\",\n",
    "    \"num_gpus\":1,\n",
    "}\n",
    "stop = {\"episode_reward_mean\": -1000}\n",
    "ray.shutdown()\n",
    "ray.init(\n",
    "  num_gpus=1,\n",
    "  include_dashboard=False,\n",
    "  ignore_reinit_error=True,\n",
    "  log_to_driver=False,\n",
    ")\n",
    "# execute training \n",
    "analysis = ray.tune.run(\n",
    "  \"SAC\",\n",
    "  config=config,\n",
    "  stop=stop,\n",
    "  checkpoint_at_end=True,\n",
    "  local_dir=\"Pendulum_v1\"  \n",
    ")"
   ]
  },
  {
   "cell_type": "code",
   "execution_count": null,
   "id": "34b3e6f3-e3fd-4bc5-bd69-6fa4411149ec",
   "metadata": {},
   "outputs": [],
   "source": [
    "import ray.rllib.algorithms.sac as sac\n",
    "# restore a trainer from the last checkpoint\n",
    "trial = analysis.get_best_logdir(\"episode_reward_mean\", \"max\")\n",
    "checkpoint = analysis.get_best_checkpoint(\n",
    "  trial,\n",
    "  \"training_iteration\",\n",
    "  \"max\",\n",
    ")\n",
    "trainer = sac.SAC(config=config)\n",
    "trainer.restore(checkpoint)"
   ]
  },
  {
   "cell_type": "code",
   "execution_count": null,
   "id": "ebe8044a-7531-41d2-83ec-1799144ea13e",
   "metadata": {},
   "outputs": [],
   "source": [
    "from gym.wrappers import RecordVideo\n",
    "\n",
    "env = RecordVideo(gym.make(\"Pendulum-v1\"),\"sac_video\")\n",
    "obs = env.reset()\n",
    "\n",
    "while True:\n",
    "    action = trainer.compute_action(obs)\n",
    "    obs,reward,done, _ = env.step(action)\n",
    "    if done:\n",
    "        break\n",
    "env.close()"
   ]
  },
  {
   "cell_type": "code",
   "execution_count": null,
   "id": "383fedae-21a7-402d-82b8-12fc52f75efb",
   "metadata": {},
   "outputs": [],
   "source": []
  }
 ],
 "metadata": {
  "kernelspec": {
   "display_name": "Python 3 (ipykernel)",
   "language": "python",
   "name": "python3"
  },
  "language_info": {
   "codemirror_mode": {
    "name": "ipython",
    "version": 3
   },
   "file_extension": ".py",
   "mimetype": "text/x-python",
   "name": "python",
   "nbconvert_exporter": "python",
   "pygments_lexer": "ipython3",
   "version": "3.8.13"
  }
 },
 "nbformat": 4,
 "nbformat_minor": 5
}
