{
 "cells": [
  {
   "cell_type": "code",
   "execution_count": 1,
   "id": "63c18541-4bbf-471b-b55c-747431920c5b",
   "metadata": {},
   "outputs": [
    {
     "name": "stderr",
     "output_type": "stream",
     "text": [
      "2022-11-13 13:41:19,278\tINFO worker.py:1528 -- Started a local Ray instance.\n"
     ]
    },
    {
     "data": {
      "text/html": [
       "<div>\n",
       "    <div style=\"margin-left: 50px;display: flex;flex-direction: row;align-items: center\">\n",
       "        <h3 style=\"color: var(--jp-ui-font-color0)\">Ray</h3>\n",
       "        <svg version=\"1.1\" id=\"ray\" width=\"3em\" viewBox=\"0 0 144.5 144.6\" style=\"margin-left: 3em;margin-right: 3em\">\n",
       "            <g id=\"layer-1\">\n",
       "                <path fill=\"#00a2e9\" class=\"st0\" d=\"M97.3,77.2c-3.8-1.1-6.2,0.9-8.3,5.1c-3.5,6.8-9.9,9.9-17.4,9.6S58,88.1,54.8,81.2c-1.4-3-3-4-6.3-4.1\n",
       "                    c-5.6-0.1-9.9,0.1-13.1,6.4c-3.8,7.6-13.6,10.2-21.8,7.6C5.2,88.4-0.4,80.5,0,71.7c0.1-8.4,5.7-15.8,13.8-18.2\n",
       "                    c8.4-2.6,17.5,0.7,22.3,8c1.3,1.9,1.3,5.2,3.6,5.6c3.9,0.6,8,0.2,12,0.2c1.8,0,1.9-1.6,2.4-2.8c3.5-7.8,9.7-11.8,18-11.9\n",
       "                    c8.2-0.1,14.4,3.9,17.8,11.4c1.3,2.8,2.9,3.6,5.7,3.3c1-0.1,2,0.1,3,0c2.8-0.5,6.4,1.7,8.1-2.7s-2.3-5.5-4.1-7.5\n",
       "                    c-5.1-5.7-10.9-10.8-16.1-16.3C84,38,81.9,37.1,78,38.3C66.7,42,56.2,35.7,53,24.1C50.3,14,57.3,2.8,67.7,0.5\n",
       "                    C78.4-2,89,4.7,91.5,15.3c0.1,0.3,0.1,0.5,0.2,0.8c0.7,3.4,0.7,6.9-0.8,9.8c-1.7,3.2-0.8,5,1.5,7.2c6.7,6.5,13.3,13,19.8,19.7\n",
       "                    c1.8,1.8,3,2.1,5.5,1.2c9.1-3.4,17.9-0.6,23.4,7c4.8,6.9,4.6,16.1-0.4,22.9c-5.4,7.2-14.2,9.9-23.1,6.5c-2.3-0.9-3.5-0.6-5.1,1.1\n",
       "                    c-6.7,6.9-13.6,13.7-20.5,20.4c-1.8,1.8-2.5,3.2-1.4,5.9c3.5,8.7,0.3,18.6-7.7,23.6c-7.9,5-18.2,3.8-24.8-2.9\n",
       "                    c-6.4-6.4-7.4-16.2-2.5-24.3c4.9-7.8,14.5-11,23.1-7.8c3,1.1,4.7,0.5,6.9-1.7C91.7,98.4,98,92.3,104.2,86c1.6-1.6,4.1-2.7,2.6-6.2\n",
       "                    c-1.4-3.3-3.8-2.5-6.2-2.6C99.8,77.2,98.9,77.2,97.3,77.2z M72.1,29.7c5.5,0.1,9.9-4.3,10-9.8c0-0.1,0-0.2,0-0.3\n",
       "                    C81.8,14,77,9.8,71.5,10.2c-5,0.3-9,4.2-9.3,9.2c-0.2,5.5,4,10.1,9.5,10.3C71.8,29.7,72,29.7,72.1,29.7z M72.3,62.3\n",
       "                    c-5.4-0.1-9.9,4.2-10.1,9.7c0,0.2,0,0.3,0,0.5c0.2,5.4,4.5,9.7,9.9,10c5.1,0.1,9.9-4.7,10.1-9.8c0.2-5.5-4-10-9.5-10.3\n",
       "                    C72.6,62.3,72.4,62.3,72.3,62.3z M115,72.5c0.1,5.4,4.5,9.7,9.8,9.9c5.6-0.2,10-4.8,10-10.4c-0.2-5.4-4.6-9.7-10-9.7\n",
       "                    c-5.3-0.1-9.8,4.2-9.9,9.5C115,72.1,115,72.3,115,72.5z M19.5,62.3c-5.4,0.1-9.8,4.4-10,9.8c-0.1,5.1,5.2,10.4,10.2,10.3\n",
       "                    c5.6-0.2,10-4.9,9.8-10.5c-0.1-5.4-4.5-9.7-9.9-9.6C19.6,62.3,19.5,62.3,19.5,62.3z M71.8,134.6c5.9,0.2,10.3-3.9,10.4-9.6\n",
       "                    c0.5-5.5-3.6-10.4-9.1-10.8c-5.5-0.5-10.4,3.6-10.8,9.1c0,0.5,0,0.9,0,1.4c-0.2,5.3,4,9.8,9.3,10\n",
       "                    C71.6,134.6,71.7,134.6,71.8,134.6z\"/>\n",
       "            </g>\n",
       "        </svg>\n",
       "        <table>\n",
       "            <tr>\n",
       "                <td style=\"text-align: left\"><b>Python version:</b></td>\n",
       "                <td style=\"text-align: left\"><b>3.8.13</b></td>\n",
       "            </tr>\n",
       "            <tr>\n",
       "                <td style=\"text-align: left\"><b>Ray version:</b></td>\n",
       "                <td style=\"text-align: left\"><b> 2.1.0</b></td>\n",
       "            </tr>\n",
       "            \n",
       "        </table>\n",
       "    </div>\n",
       "</div>\n"
      ],
      "text/plain": [
       "RayContext(dashboard_url='', python_version='3.8.13', ray_version='2.1.0', ray_commit='be49bde7ee4f6adb3f8710aee0665c27f9f0bb62', address_info={'node_ip_address': '127.0.0.1', 'raylet_ip_address': '127.0.0.1', 'redis_address': None, 'object_store_address': '/tmp/ray/session_2022-11-13_13-41-17_605899_5894/sockets/plasma_store', 'raylet_socket_name': '/tmp/ray/session_2022-11-13_13-41-17_605899_5894/sockets/raylet', 'webui_url': '', 'session_dir': '/tmp/ray/session_2022-11-13_13-41-17_605899_5894', 'metrics_export_port': 63991, 'gcs_address': '127.0.0.1:57588', 'address': '127.0.0.1:57588', 'dashboard_agent_listen_port': 52365, 'node_id': '7396e43ddcc9b30d1e0f4c274633ca52897dca7ff0417172f43fc715'})"
      ]
     },
     "execution_count": 1,
     "metadata": {},
     "output_type": "execute_result"
    }
   ],
   "source": [
    "import ray \n",
    "\n",
    "ray.init(num_gpus=1)"
   ]
  },
  {
   "cell_type": "code",
   "execution_count": 3,
   "id": "48787581-5643-414b-808e-6481f2a7e181",
   "metadata": {},
   "outputs": [
    {
     "name": "stderr",
     "output_type": "stream",
     "text": [
      "2022-11-13 13:54:18,665\tINFO worker.py:1528 -- Started a local Ray instance.\n"
     ]
    },
    {
     "data": {
      "text/html": [
       "<div class=\"tuneStatus\">\n",
       "  <div style=\"display: flex;flex-direction: row\">\n",
       "    <div style=\"display: flex;flex-direction: column;\">\n",
       "      <h3>Tune Status</h3>\n",
       "      <table>\n",
       "<tbody>\n",
       "<tr><td>Current time:</td><td>2022-11-13 14:04:54</td></tr>\n",
       "<tr><td>Running for: </td><td>00:10:35.36        </td></tr>\n",
       "<tr><td>Memory:      </td><td>10.0/16.0 GiB      </td></tr>\n",
       "</tbody>\n",
       "</table>\n",
       "    </div>\n",
       "    <div class=\"vDivider\"></div>\n",
       "    <div class=\"systemInfo\">\n",
       "      <h3>System Info</h3>\n",
       "      Using FIFO scheduling algorithm.<br>Resources requested: 0/8 CPUs, 0/1 GPUs, 0.0/6.17 GiB heap, 0.0/2.0 GiB objects\n",
       "    </div>\n",
       "    \n",
       "  </div>\n",
       "  <div class=\"hDivider\"></div>\n",
       "  <div class=\"trialStatus\">\n",
       "    <h3>Trial Status</h3>\n",
       "    <table>\n",
       "<thead>\n",
       "<tr><th>Trial name                 </th><th>status    </th><th>loc           </th><th style=\"text-align: right;\">  iter</th><th style=\"text-align: right;\">  total time (s)</th><th style=\"text-align: right;\">   ts</th><th style=\"text-align: right;\">  reward</th><th style=\"text-align: right;\">  num_recreated_worker\n",
       "s</th><th style=\"text-align: right;\">  episode_reward_max</th><th style=\"text-align: right;\">  episode_reward_min</th></tr>\n",
       "</thead>\n",
       "<tbody>\n",
       "<tr><td>SAC_Pendulum-v1_f6252_00000</td><td>TERMINATED</td><td>127.0.0.1:6220</td><td style=\"text-align: right;\">   148</td><td style=\"text-align: right;\">          620.23</td><td style=\"text-align: right;\">15696</td><td style=\"text-align: right;\">-997.085</td><td style=\"text-align: right;\">0</td><td style=\"text-align: right;\">            -2.21475</td><td style=\"text-align: right;\">            -1664.03</td></tr>\n",
       "</tbody>\n",
       "</table>\n",
       "  </div>\n",
       "</div>\n",
       "<style>\n",
       ".tuneStatus {\n",
       "  color: var(--jp-ui-font-color1);\n",
       "}\n",
       ".tuneStatus .systemInfo {\n",
       "  display: flex;\n",
       "  flex-direction: column;\n",
       "}\n",
       ".tuneStatus td {\n",
       "  white-space: nowrap;\n",
       "}\n",
       ".tuneStatus .trialStatus {\n",
       "  display: flex;\n",
       "  flex-direction: column;\n",
       "}\n",
       ".tuneStatus h3 {\n",
       "  font-weight: bold;\n",
       "}\n",
       ".tuneStatus .hDivider {\n",
       "  border-bottom-width: var(--jp-border-width);\n",
       "  border-bottom-color: var(--jp-border-color0);\n",
       "  border-bottom-style: solid;\n",
       "}\n",
       ".tuneStatus .vDivider {\n",
       "  border-left-width: var(--jp-border-width);\n",
       "  border-left-color: var(--jp-border-color0);\n",
       "  border-left-style: solid;\n",
       "  margin: 0.5em 1em 0.5em 1em;\n",
       "}\n",
       "</style>\n"
      ],
      "text/plain": [
       "<IPython.core.display.HTML object>"
      ]
     },
     "metadata": {},
     "output_type": "display_data"
    },
    {
     "data": {
      "text/html": [
       "<div class=\"trialProgress\">\n",
       "  <h3>Trial Progress</h3>\n",
       "  <table>\n",
       "<thead>\n",
       "<tr><th>Trial name                 </th><th style=\"text-align: right;\">  agent_timesteps_total</th><th>counters                                                                                                                                                                                            </th><th>custom_metrics  </th><th>date               </th><th>done  </th><th style=\"text-align: right;\">  episode_len_mean</th><th>episode_media  </th><th style=\"text-align: right;\">  episode_reward_max</th><th style=\"text-align: right;\">  episode_reward_mean</th><th style=\"text-align: right;\">  episode_reward_min</th><th style=\"text-align: right;\">  episodes_this_iter</th><th style=\"text-align: right;\">  episodes_total</th><th>experiment_id                   </th><th>hostname                </th><th>info  </th><th style=\"text-align: right;\">  iterations_since_restore</th><th>node_ip  </th><th style=\"text-align: right;\">  num_agent_steps_sampled</th><th style=\"text-align: right;\">  num_agent_steps_trained</th><th style=\"text-align: right;\">  num_env_steps_sampled</th><th style=\"text-align: right;\">  num_env_steps_sampled_this_iter</th><th style=\"text-align: right;\">  num_env_steps_trained</th><th style=\"text-align: right;\">  num_env_steps_trained_this_iter</th><th style=\"text-align: right;\">  num_faulty_episodes</th><th style=\"text-align: right;\">  num_healthy_workers</th><th style=\"text-align: right;\">  num_recreated_workers</th><th style=\"text-align: right;\">  num_steps_trained_this_iter</th><th>perf                                                                           </th><th style=\"text-align: right;\">  pid</th><th>policy_reward_max  </th><th>policy_reward_mean  </th><th>policy_reward_min  </th><th>sampler_perf                                                                                                                                                                                                    </th><th>sampler_results                                                                                                                                                                                                                                                                                                                                                                                                                                                                                                                                                                                                                                                                                                                                                                                                                                                                                                                                                                                                                                                                                                                                                                                                                                                                                                                                                                                                                                                                                                                                                                                                                                                                                                                                                                                                                                                                                                                                                                                                                                                                                                                                                                                                                                                                                                                                                                                                                                                                                                                                                                                                                                                                                                 </th><th style=\"text-align: right;\">  time_since_restore</th><th style=\"text-align: right;\">  time_this_iter_s</th><th style=\"text-align: right;\">  time_total_s</th><th>timers                                                                                                                                                                         </th><th style=\"text-align: right;\">  timestamp</th><th style=\"text-align: right;\">  timesteps_since_restore</th><th style=\"text-align: right;\">  timesteps_total</th><th style=\"text-align: right;\">  training_iteration</th><th>trial_id   </th><th style=\"text-align: right;\">  warmup_time</th></tr>\n",
       "</thead>\n",
       "<tbody>\n",
       "<tr><td>SAC_Pendulum-v1_f6252_00000</td><td style=\"text-align: right;\">                  15696</td><td>{&#x27;num_env_steps_sampled&#x27;: 15696, &#x27;num_env_steps_trained&#x27;: 1817088, &#x27;num_agent_steps_sampled&#x27;: 15696, &#x27;num_agent_steps_trained&#x27;: 1817088, &#x27;last_target_update_ts&#x27;: 15696, &#x27;num_target_updates&#x27;: 7098}</td><td>{}              </td><td>2022-11-13_14-04-54</td><td>True  </td><td style=\"text-align: right;\">               200</td><td>{}             </td><td style=\"text-align: right;\">            -2.21475</td><td style=\"text-align: right;\">             -997.085</td><td style=\"text-align: right;\">            -1664.03</td><td style=\"text-align: right;\">                   2</td><td style=\"text-align: right;\">              78</td><td>68d2c8b37ee94756bcdeca0cd2a377e9</td><td>Davids-MacBook-Pro.local</td><td>{&#x27;learner&#x27;: {&#x27;default_policy&#x27;: {&#x27;learner_stats&#x27;: {&#x27;mean_td_error&#x27;: 10.289583, &#x27;actor_loss&#x27;: 120.18094, &#x27;critic_loss&#x27;: 0.68420887, &#x27;alpha_loss&#x27;: 0.14441463, &#x27;alpha_value&#x27;: 0.35320118, &#x27;target_entropy&#x27;: -1.0, &#x27;mean_q&#x27;: -124.050735, &#x27;max_q&#x27;: -20.20928, &#x27;min_q&#x27;: -229.91577, &#x27;model&#x27;: {}}, &#x27;td_error&#x27;: array([3.49845886e-01, 6.82323456e-01, 3.09684753e-01, 7.66830444e-02,\n",
       "       1.70975494e+00, 5.28980255e-01, 2.36106873e-01, 3.80796432e+00,\n",
       "       5.23095703e+00, 1.03334045e+00, 4.09967804e+00, 7.52685547e-01,\n",
       "       1.48094147e+02, 4.36149597e-01, 4.69334602e-01, 1.60155487e+00,\n",
       "       2.81227112e-01, 1.29716492e+02, 4.50798035e-01, 1.84989929e-01,\n",
       "       1.52754211e+00, 5.75698853e-01, 1.10250092e+00, 6.66806412e+00,\n",
       "       3.93775940e-01, 9.57695007e-01, 8.19793701e-01, 4.77622604e+00,\n",
       "       1.88735718e+02, 4.68712616e+00, 5.78437805e-01, 1.92606354e+00,\n",
       "       1.56000519e+00, 8.53984833e-01, 9.29668427e-01, 2.14592743e+00,\n",
       "       2.71658325e+00, 1.23841095e+00, 2.84461975e-01, 4.43279266e-01,\n",
       "       2.21675873e-01, 3.00346375e-01, 6.22127533e-01, 8.10615540e-01,\n",
       "       3.20014954e-01, 7.32756615e+00, 5.96176147e-01, 5.61500549e-01,\n",
       "       9.46121216e-02, 8.33580017e-01, 7.79296875e-01, 2.63977051e-01,\n",
       "       2.96897888e-01, 8.24398041e-01, 7.11902618e-01, 3.78230667e+00,\n",
       "       7.20432281e-01, 6.17195129e-01, 2.34562683e+00, 2.69834137e+00,\n",
       "       6.65851593e-01, 2.84278107e+00, 1.40085205e+02, 6.85073853e-01,\n",
       "       1.99114799e-01, 7.94830322e-01, 1.27134705e+00, 1.26693726e+00,\n",
       "       9.18525696e-01, 1.13886642e+00, 4.31144714e-01, 5.19073486e-01,\n",
       "       1.09846878e+00, 3.44116211e-01, 2.72999191e+00, 1.50816345e+02,\n",
       "       4.03865814e-01, 2.62023163e+00, 5.75954437e-01, 1.02629852e+00,\n",
       "       4.44110870e-01, 2.05490112e-01, 5.24990082e-01, 1.54008698e+02,\n",
       "       2.54925919e+00, 2.80738831e-01, 4.73316193e-01, 8.56747589e+01,\n",
       "       2.27905273e-01, 1.14007568e+00, 4.10430908e-01, 1.64755249e+00,\n",
       "       7.65857697e-01, 6.64543152e-01, 1.46507263e-01, 3.06404495e+00,\n",
       "       1.36078262e+00, 7.89480209e-01, 3.91459465e-01, 8.94281769e+01,\n",
       "       1.54030609e+00, 4.10942078e-01, 1.95723221e+02, 1.17061710e+00,\n",
       "       2.63908386e-01, 3.71597290e-01, 2.27478027e-01, 1.68836212e+00,\n",
       "       7.19139099e-01, 4.39048767e-01, 1.32424164e+00, 6.37321472e-01,\n",
       "       5.47378540e-01, 1.82945251e-01, 1.04288483e+00, 2.96462631e+00,\n",
       "       1.30687714e+00, 1.58908081e+00, 1.13874817e+00, 1.10432434e+00,\n",
       "       5.19073486e-01, 2.31085205e+00, 1.99707031e-01, 2.32379913e+00,\n",
       "       2.50144958e-01, 1.82326126e+00, 5.69633484e-01, 3.22379303e+00,\n",
       "       1.46657562e+00, 2.61941910e+00, 1.73873901e-01, 1.18239212e+00,\n",
       "       1.69449219e+02, 6.04999542e-01, 2.69659042e+00, 7.18887329e-01,\n",
       "       3.40530396e-01, 4.96620178e-01, 4.10427856e+00, 2.01427460e-01,\n",
       "       3.98880959e-01, 1.51653290e+00, 2.02647686e+00, 1.71637821e+00,\n",
       "       3.96232605e-01, 2.31684113e+00, 2.14342499e+00, 2.03517914e+00,\n",
       "       9.00108337e-01, 3.45957756e-01, 2.19529724e+00, 6.40972137e-01,\n",
       "       1.29391479e+00, 7.14836121e-01, 6.40480042e-01, 4.97856140e-01,\n",
       "       4.46147919e-02, 2.55028915e+00, 1.52708435e+00, 2.91510010e+00,\n",
       "       1.98109818e+00, 1.30298233e+00, 3.00818634e+00, 1.11144714e+02,\n",
       "       8.96444321e-01, 6.31790161e-01, 1.73919678e+00, 4.36840057e-01,\n",
       "       9.60830688e-01, 5.88333130e-01, 1.58760071e-01, 1.10144806e+00,\n",
       "       1.50816345e+02, 2.09114647e+01, 4.16202545e+00, 2.86544800e-01,\n",
       "       8.95217896e-01, 1.27271271e+00, 3.05030823e-01, 1.51487579e+01,\n",
       "       1.11968803e+00, 1.82287216e+00, 1.09227753e+00, 4.62791443e-01,\n",
       "       8.94809723e-01, 4.90225792e-01, 9.33097839e-01, 1.04776764e+00,\n",
       "       9.46281433e-01, 2.22427368e-01, 4.78420258e-01, 7.37450409e+00,\n",
       "       1.99092865e+00, 1.48429871e-01, 3.76546860e+00, 9.19353485e-01,\n",
       "       1.39579010e+00, 4.44979858e+00, 6.34796143e-01, 3.63555908e-01,\n",
       "       1.20306396e+00, 1.06909943e+00, 1.23549652e+00, 1.66453171e+00,\n",
       "       1.49640945e+02, 5.87806702e-01, 1.79363358e+02, 1.04225159e-01,\n",
       "       5.49602509e-01, 3.71752167e+00, 8.69007111e-01, 6.75775909e+00,\n",
       "       5.46310425e-01, 6.12121582e-01, 1.11717224e-01, 2.54813004e+00,\n",
       "       8.41880798e-01, 2.96020508e-02, 9.37543869e-01, 2.06331177e+01,\n",
       "       8.56903076e-01, 4.89387512e-01, 4.13238525e-01, 5.32142639e-01,\n",
       "       1.53488922e+00, 5.28434372e+00, 2.64031219e+00, 4.98985291e-01,\n",
       "       1.28646851e-01, 6.50032043e-01, 2.26402283e-01, 3.66867065e-01,\n",
       "       1.48754883e+00, 3.53218079e-01, 1.48406219e+00, 1.01360321e+00,\n",
       "       4.52525139e-01, 2.50305176e+00, 1.01038742e+00, 9.21325684e-02,\n",
       "       4.69772339e-01, 1.13114548e+00, 1.50775330e+02, 9.90158081e-01,\n",
       "       1.28998566e+00, 3.10096741e-01, 8.08387756e-01, 3.27556610e-01,\n",
       "       3.30402374e+00, 2.93235779e-01, 8.39938660e+01, 4.36683655e-01,\n",
       "       3.72512436e+00, 2.81428909e+00, 3.98719788e-01, 9.02328491e-01],\n",
       "      dtype=float32), &#x27;train&#x27;: None}}, &#x27;num_env_steps_sampled&#x27;: 15696, &#x27;num_env_steps_trained&#x27;: 1817088, &#x27;num_agent_steps_sampled&#x27;: 15696, &#x27;num_agent_steps_trained&#x27;: 1817088, &#x27;last_target_update_ts&#x27;: 15696, &#x27;num_target_updates&#x27;: 7098}       </td><td style=\"text-align: right;\">                       148</td><td>127.0.0.1</td><td style=\"text-align: right;\">                    15696</td><td style=\"text-align: right;\">                  1817088</td><td style=\"text-align: right;\">                  15696</td><td style=\"text-align: right;\">                              100</td><td style=\"text-align: right;\">                1817088</td><td style=\"text-align: right;\">                            12800</td><td style=\"text-align: right;\">                    0</td><td style=\"text-align: right;\">                    2</td><td style=\"text-align: right;\">                      0</td><td style=\"text-align: right;\">                        12800</td><td>{&#x27;cpu_util_percent&#x27;: 48.18333333333334, &#x27;ram_util_percent&#x27;: 62.449999999999996}</td><td style=\"text-align: right;\"> 6220</td><td>{}                 </td><td>{}                  </td><td>{}                 </td><td>{&#x27;mean_raw_obs_processing_ms&#x27;: 0.3446157244918164, &#x27;mean_inference_ms&#x27;: 5.584247831808956, &#x27;mean_action_processing_ms&#x27;: 0.12260726543887081, &#x27;mean_env_wait_ms&#x27;: 0.06851384104619591, &#x27;mean_env_render_ms&#x27;: 0.0}</td><td>{&#x27;episode_reward_max&#x27;: -2.2147488066585588, &#x27;episode_reward_min&#x27;: -1664.0293851675924, &#x27;episode_reward_mean&#x27;: -997.0851755098437, &#x27;episode_len_mean&#x27;: 200.0, &#x27;episode_media&#x27;: {}, &#x27;episodes_this_iter&#x27;: 2, &#x27;policy_reward_min&#x27;: {}, &#x27;policy_reward_max&#x27;: {}, &#x27;policy_reward_mean&#x27;: {}, &#x27;custom_metrics&#x27;: {}, &#x27;hist_stats&#x27;: {&#x27;episode_reward&#x27;: [-1384.6671356627182, -1414.8778385385995, -1567.2415900783055, -1210.7790432565503, -1571.6750914788618, -1609.5807929845053, -1584.0437222843245, -1554.1160166528068, -1333.3414632988859, -1415.4199977511714, -1557.5454154904442, -1664.0293851675924, -1613.8451972648838, -1568.5090651342111, -1228.8377006048458, -1323.9985690234603, -1577.887627808508, -1493.767757236978, -1196.898673599531, -1513.1525092336524, -1397.8929171401508, -1095.889681798932, -1045.6008662231636, -954.3425979298355, -1180.9355451857923, -1267.4903901184023, -1391.9817317687105, -1355.843856961233, -1410.1902408090293, -1266.6431389145837, -1206.3800711447486, -1312.6863254599268, -1131.229081308813, -1117.4168676073564, -1429.8265208065527, -1254.713636783319, -1240.3450324552748, -1285.5935354387866, -1228.379767553681, -1266.331696499407, -1178.6832256355976, -1226.3766313616895, -1183.8362244988157, -1496.5336935026828, -1116.6657176054787, -1058.0325688762464, -859.7359713453868, -1036.3429875087122, -892.9648501999488, -849.8945331838843, -770.0938678718823, -872.2010448530289, -764.0468021212606, -646.6213989023073, -937.2453564048758, -1038.047541171968, -790.5690114666909, -516.4073296760528, -381.3383157361081, -761.8848566620226, -500.2596079921761, -374.9116502350467, -2.2147488066585588, -253.64850423819016, -370.43751187092727, -128.06122469819275, -125.73115430260466, -494.1408789870078, -464.90609203234806, -436.1020526631616, -246.79282915248783, -453.85689462750366, -117.42950582584548, -127.96281117955388, -470.7076877146642, -358.2533707056735, -125.63600436048736, -120.14113733209152], &#x27;episode_lengths&#x27;: [200, 200, 200, 200, 200, 200, 200, 200, 200, 200, 200, 200, 200, 200, 200, 200, 200, 200, 200, 200, 200, 200, 200, 200, 200, 200, 200, 200, 200, 200, 200, 200, 200, 200, 200, 200, 200, 200, 200, 200, 200, 200, 200, 200, 200, 200, 200, 200, 200, 200, 200, 200, 200, 200, 200, 200, 200, 200, 200, 200, 200, 200, 200, 200, 200, 200, 200, 200, 200, 200, 200, 200, 200, 200, 200, 200, 200, 200]}, &#x27;sampler_perf&#x27;: {&#x27;mean_raw_obs_processing_ms&#x27;: 0.3446157244918164, &#x27;mean_inference_ms&#x27;: 5.584247831808956, &#x27;mean_action_processing_ms&#x27;: 0.12260726543887081, &#x27;mean_env_wait_ms&#x27;: 0.06851384104619591, &#x27;mean_env_render_ms&#x27;: 0.0}, &#x27;num_faulty_episodes&#x27;: 0}</td><td style=\"text-align: right;\">              620.23</td><td style=\"text-align: right;\">           4.21256</td><td style=\"text-align: right;\">        620.23</td><td>{&#x27;training_iteration_time_ms&#x27;: 84.4, &#x27;load_time_ms&#x27;: 1.218, &#x27;load_throughput&#x27;: 210195.53, &#x27;learn_time_ms&#x27;: 21.39, &#x27;learn_throughput&#x27;: 11968.391, &#x27;synch_weights_time_ms&#x27;: 3.08}</td><td style=\"text-align: right;\"> 1668369894</td><td style=\"text-align: right;\">                        0</td><td style=\"text-align: right;\">            15696</td><td style=\"text-align: right;\">                 148</td><td>f6252_00000</td><td style=\"text-align: right;\">      7.61318</td></tr>\n",
       "</tbody>\n",
       "</table>\n",
       "</div>\n",
       "<style>\n",
       ".trialProgress {\n",
       "  display: flex;\n",
       "  flex-direction: column;\n",
       "  color: var(--jp-ui-font-color1);\n",
       "}\n",
       ".trialProgress h3 {\n",
       "  font-weight: bold;\n",
       "}\n",
       ".trialProgress td {\n",
       "  white-space: nowrap;\n",
       "}\n",
       "</style>\n"
      ],
      "text/plain": [
       "<IPython.core.display.HTML object>"
      ]
     },
     "metadata": {},
     "output_type": "display_data"
    },
    {
     "name": "stderr",
     "output_type": "stream",
     "text": [
      "2022-11-13 14:04:55,786\tINFO tune.py:777 -- Total run time: 636.35 seconds (635.35 seconds for the tuning loop).\n"
     ]
    }
   ],
   "source": [
    "import ray\n",
    "config = {\n",
    "    \"env\": \"Pendulum-v1\",\n",
    "    \"num_gpus\":1,\n",
    "}\n",
    "stop = {\"episode_reward_mean\": -1000}\n",
    "ray.shutdown()\n",
    "ray.init(\n",
    "  num_gpus=1,\n",
    "  include_dashboard=False,\n",
    "  ignore_reinit_error=True,\n",
    "  log_to_driver=False,\n",
    ")\n",
    "# execute training \n",
    "analysis = ray.tune.run(\n",
    "  \"SAC\",\n",
    "  config=config,\n",
    "  stop=stop,\n",
    "  checkpoint_at_end=True,\n",
    "  local_dir=\"Pendulum_v1\"  \n",
    ")"
   ]
  },
  {
   "cell_type": "code",
   "execution_count": 9,
   "id": "34b3e6f3-e3fd-4bc5-bd69-6fa4411149ec",
   "metadata": {},
   "outputs": [
    {
     "name": "stderr",
     "output_type": "stream",
     "text": [
      "2022-11-13 14:23:57,382\tWARNING util.py:66 -- Install gputil for GPU system monitoring.\n",
      "2022-11-13 14:23:57,439\tINFO trainable.py:766 -- Restored on 127.0.0.1 from checkpoint: /Users/davidkwak/tensorflow-test/gym_env/classic_control/Pendulum_v1/SAC/SAC_Pendulum-v1_f6252_00000_0_2022-11-13_13-54-19/checkpoint_000148\n",
      "2022-11-13 14:23:57,440\tINFO trainable.py:775 -- Current state after restoring: {'_iteration': 148, '_timesteps_total': None, '_time_total': 620.2296693325043, '_episodes_total': 78}\n"
     ]
    }
   ],
   "source": [
    "import ray.rllib.algorithms.sac as sac\n",
    "# restore a trainer from the last checkpoint\n",
    "trial = analysis.get_best_logdir(\"episode_reward_mean\", \"max\")\n",
    "checkpoint = analysis.get_best_checkpoint(\n",
    "  trial,\n",
    "  \"training_iteration\",\n",
    "  \"max\",\n",
    ")\n",
    "trainer = sac.SAC(config=config)\n",
    "trainer.restore(checkpoint)"
   ]
  },
  {
   "cell_type": "code",
   "execution_count": 12,
   "id": "9b49e87e-7037-4b10-98e5-c0b9bce26c18",
   "metadata": {},
   "outputs": [],
   "source": [
    "import gym\n",
    "\n",
    "env = gym.make(\"Pendulum-v1\")\n",
    "obs = env.reset()\n",
    "\n",
    "while True:\n",
    "    action = trainer.compute_action(obs)\n",
    "    obs,reward,done, _ = env.step(action)\n",
    "    env.render()\n",
    "    if done:\n",
    "        break\n",
    "env.close()"
   ]
  },
  {
   "cell_type": "code",
   "execution_count": 13,
   "id": "ebe8044a-7531-41d2-83ec-1799144ea13e",
   "metadata": {},
   "outputs": [
    {
     "name": "stderr",
     "output_type": "stream",
     "text": [
      "E1113 14:26:02.952237000 8116724992 fork_posix.cc:76]                  Other threads are currently calling into gRPC, skipping fork() handlers\n",
      "E1113 14:26:02.975362000 8116724992 fork_posix.cc:76]                  Other threads are currently calling into gRPC, skipping fork() handlers\n"
     ]
    }
   ],
   "source": [
    "from gym.wrappers import RecordVideo\n",
    "\n",
    "env = RecordVideo(gym.make(\"Pendulum-v1\"),\"sac_video\")\n",
    "obs = env.reset()\n",
    "\n",
    "while True:\n",
    "    action = trainer.compute_action(obs)\n",
    "    obs,reward,done, _ = env.step(action)\n",
    "    env.render()\n",
    "    if done:\n",
    "        break\n",
    "env.close()"
   ]
  },
  {
   "cell_type": "code",
   "execution_count": null,
   "id": "383fedae-21a7-402d-82b8-12fc52f75efb",
   "metadata": {},
   "outputs": [],
   "source": []
  }
 ],
 "metadata": {
  "kernelspec": {
   "display_name": "Python 3 (ipykernel)",
   "language": "python",
   "name": "python3"
  },
  "language_info": {
   "codemirror_mode": {
    "name": "ipython",
    "version": 3
   },
   "file_extension": ".py",
   "mimetype": "text/x-python",
   "name": "python",
   "nbconvert_exporter": "python",
   "pygments_lexer": "ipython3",
   "version": "3.8.13"
  }
 },
 "nbformat": 4,
 "nbformat_minor": 5
}
