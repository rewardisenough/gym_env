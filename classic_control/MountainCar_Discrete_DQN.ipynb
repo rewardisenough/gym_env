{
 "cells": [
  {
   "cell_type": "code",
   "execution_count": null,
   "id": "5022f2ad-92a1-45bd-bf55-83c32db3e25b",
   "metadata": {},
   "outputs": [],
   "source": [
    "import ray \n",
    "\n",
    "ray.init(num_gpus=1)"
   ]
  },
  {
   "cell_type": "code",
   "execution_count": null,
   "id": "d557e3dd-ec21-4215-a752-1cfdef7a97e8",
   "metadata": {},
   "outputs": [],
   "source": [
    "import ray\n",
    "from ray.rllib.agents.ppo import PPOTrainer\n",
    "config = {\n",
    "    \"env\": \"MountainCar-v0\",\n",
    "    \"num_gpus\":1,\n",
    "}\n",
    "stop = {\"episode_reward_mean\": -120}\n",
    "ray.shutdown()\n",
    "ray.init(\n",
    "  num_gpus=1,\n",
    "  include_dashboard=False,\n",
    "  ignore_reinit_error=True,\n",
    "  log_to_driver=False,\n",
    ")\n",
    "# execute training \n",
    "analysis = ray.tune.run(\n",
    "  \"DQN\",\n",
    "  config=config,\n",
    "  stop=stop,\n",
    "  checkpoint_at_end=True,\n",
    "  local_dir=\"MountainCar_v0\"  \n",
    ")"
   ]
  },
  {
   "cell_type": "code",
   "execution_count": null,
   "id": "609cefb7-109e-4b89-97a0-f09ac6199bd2",
   "metadata": {},
   "outputs": [],
   "source": [
    "import ray.rllib.algorithms.dqn as dqn\n",
    "# restore a trainer from the last checkpoint\n",
    "trial = analysis.get_best_logdir(\"episode_reward_mean\", \"max\")\n",
    "checkpoint = analysis.get_best_checkpoint(\n",
    "  trial,\n",
    "  \"training_iteration\",\n",
    "  \"max\",\n",
    ")\n",
    "trainer = dqn.DQN(config=config)\n",
    "trainer.restore(checkpoint)"
   ]
  },
  {
   "cell_type": "code",
   "execution_count": null,
   "id": "896bbb04-a570-4d81-9e23-d4154fe85cc6",
   "metadata": {},
   "outputs": [],
   "source": [
    "import gym\n",
    "from gym.wrappers import RecordVideo\n",
    "\n",
    "env = RecordVideo(gym.make(\"MountainCar-v0\"),\"dqn_video\")\n",
    "obs = env.reset()\n",
    "\n",
    "while True:\n",
    "    action = trainer.compute_action(obs)\n",
    "    obs,reward,done, _ = env.step(action)\n",
    "    if done:\n",
    "        break\n",
    "env.close()"
   ]
  },
  {
   "cell_type": "code",
   "execution_count": null,
   "id": "37109041-9933-488a-b993-a32f30b98235",
   "metadata": {},
   "outputs": [],
   "source": []
  }
 ],
 "metadata": {
  "kernelspec": {
   "display_name": "Python 3 (ipykernel)",
   "language": "python",
   "name": "python3"
  },
  "language_info": {
   "codemirror_mode": {
    "name": "ipython",
    "version": 3
   },
   "file_extension": ".py",
   "mimetype": "text/x-python",
   "name": "python",
   "nbconvert_exporter": "python",
   "pygments_lexer": "ipython3",
   "version": "3.8.13"
  }
 },
 "nbformat": 4,
 "nbformat_minor": 5
}
