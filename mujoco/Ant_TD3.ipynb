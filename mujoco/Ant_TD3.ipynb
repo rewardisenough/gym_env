{
 "cells": [
  {
   "cell_type": "code",
   "execution_count": null,
   "id": "50dc3696-9112-4cd7-94b4-27f1e5b6b5c7",
   "metadata": {},
   "outputs": [],
   "source": [
    "import ray\n",
    "ray.init(num_gpus=1)"
   ]
  },
  {
   "cell_type": "code",
   "execution_count": null,
   "id": "d98a5820-1b52-4fa6-88e5-9b636a692ece",
   "metadata": {},
   "outputs": [],
   "source": [
    "from ray import tune\n",
    "config = {\n",
    "    \"env\": \"Ant-v2\",\n",
    "    \"num_gpus\":1,\n",
    "}\n",
    "stop = {\"timesteps_total\": 10000000}\n",
    "ray.shutdown()\n",
    "ray.init(\n",
    "  num_gpus=1,\n",
    "  include_dashboard=False,\n",
    "  ignore_reinit_error=True,\n",
    "  log_to_driver=False,\n",
    ")\n",
    "# execute training \n",
    "analysis = ray.tune.run(\n",
    "  \"TD3\",\n",
    "  config=config,\n",
    "  stop=stop,\n",
    "  checkpoint_at_end=True,\n",
    "  local_dir=\"Ant-v2\"  \n",
    ")"
   ]
  }
 ],
 "metadata": {
  "kernelspec": {
   "display_name": "Python 3 (ipykernel)",
   "language": "python",
   "name": "python3"
  },
  "language_info": {
   "codemirror_mode": {
    "name": "ipython",
    "version": 3
   },
   "file_extension": ".py",
   "mimetype": "text/x-python",
   "name": "python",
   "nbconvert_exporter": "python",
   "pygments_lexer": "ipython3",
   "version": "3.8.13"
  }
 },
 "nbformat": 4,
 "nbformat_minor": 5
}
