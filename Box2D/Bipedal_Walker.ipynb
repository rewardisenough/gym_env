{
 "cells": [
  {
   "cell_type": "code",
   "execution_count": null,
   "id": "caa9d83c",
   "metadata": {},
   "outputs": [],
   "source": [
    "# Import ray in this cell\n",
    "import ray\n"
   ]
  },
  {
   "cell_type": "code",
   "execution_count": null,
   "id": "1b350fbc",
   "metadata": {},
   "outputs": [],
   "source": [
    "# Initialize ray in this cell\n",
    "ray.init(num_gpus=1)"
   ]
  },
  {
   "cell_type": "code",
   "execution_count": null,
   "id": "47569b3e",
   "metadata": {},
   "outputs": [],
   "source": [
    "# Import the experiment runner below\n",
    "from ray import tune\n",
    "\n",
    "# Run the experiment by filling the required configuration\n",
    "tune.run(\"PPO\",\n",
    "        config={\"env\": \"BipedalWalker-v3\",\n",
    "                \"evaluation_interval\":100,\n",
    "                \"evaluation_duration\":100,\n",
    "                \"num_gpus\":1\n",
    "        },\n",
    "        stop={\n",
    "            'episode_reward_mean' : 250\n",
    "        }\n",
    "    )"
   ]
  },
  {
   "cell_type": "code",
   "execution_count": null,
   "id": "4804b46c",
   "metadata": {},
   "outputs": [],
   "source": []
  }
 ],
 "metadata": {
  "kernelspec": {
   "display_name": "Python 3 (ipykernel)",
   "language": "python",
   "name": "python3"
  },
  "language_info": {
   "codemirror_mode": {
    "name": "ipython",
    "version": 3
   },
   "file_extension": ".py",
   "mimetype": "text/x-python",
   "name": "python",
   "nbconvert_exporter": "python",
   "pygments_lexer": "ipython3",
   "version": "3.8.13"
  }
 },
 "nbformat": 4,
 "nbformat_minor": 5
}
