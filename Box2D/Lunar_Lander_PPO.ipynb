{
 "cells": [
  {
   "cell_type": "code",
   "execution_count": null,
   "id": "aeb7758e-4b8e-43d4-9c42-fa7ebaf640bb",
   "metadata": {},
   "outputs": [],
   "source": [
    "import ray \n",
    "\n",
    "ray.init(num_gpus=1)"
   ]
  },
  {
   "cell_type": "code",
   "execution_count": null,
   "id": "2404575e-63bf-42b8-b0dc-947ad4e67670",
   "metadata": {},
   "outputs": [],
   "source": [
    "import ray\n",
    "from ray.rllib.agents.ppo import PPOTrainer\n",
    "config = {\n",
    "    \"env\": \"LunarLander-v2\",\n",
    "    \"num_gpus\":1,\n",
    "}\n",
    "stop = {\"episode_reward_mean\": 250}\n",
    "ray.shutdown()\n",
    "ray.init(\n",
    "  num_gpus=1,\n",
    "  include_dashboard=False,\n",
    "  ignore_reinit_error=True,\n",
    "  log_to_driver=False,\n",
    ")\n",
    "# execute training \n",
    "analysis = ray.tune.run(\n",
    "  \"PPO\",\n",
    "  config=config,\n",
    "  stop=stop,\n",
    "  checkpoint_at_end=True,\n",
    "  local_dir=\"LunarLander_v2\"  \n",
    ")"
   ]
  },
  {
   "cell_type": "code",
   "execution_count": null,
   "id": "12763183-1ab2-45d8-804b-827f44db7612",
   "metadata": {},
   "outputs": [],
   "source": [
    "# restore a trainer from the last checkpoint\n",
    "trial = analysis.get_best_logdir(\"episode_reward_mean\", \"max\")\n",
    "checkpoint = analysis.get_best_checkpoint(\n",
    "  trial,\n",
    "  \"training_iteration\",\n",
    "  \"max\",\n",
    ")\n",
    "trainer = PPOTrainer(config=config)\n",
    "trainer.restore(checkpoint)"
   ]
  },
  {
   "cell_type": "code",
   "execution_count": null,
   "id": "cc57e8c8-5813-477c-8b4d-0ccd413c4e80",
   "metadata": {},
   "outputs": [],
   "source": [
    "import gym\n",
    "from gym.wrappers import RecordVideo\n",
    "\n",
    "env = RecordVideo(gym.make(\"LunarLander-v2\"),\"ppo_video\")\n",
    "obs = env.reset()\n",
    "\n",
    "while True:\n",
    "    action = trainer.compute_action(obs)\n",
    "    obs,reward,done, _ = env.step(action)\n",
    "    if done:\n",
    "        break\n",
    "env.close()"
   ]
  },
  {
   "cell_type": "code",
   "execution_count": null,
   "id": "bb42eb09-0a4b-478c-b34a-805d963ce5f7",
   "metadata": {},
   "outputs": [],
   "source": []
  }
 ],
 "metadata": {
  "kernelspec": {
   "display_name": "Python 3 (ipykernel)",
   "language": "python",
   "name": "python3"
  },
  "language_info": {
   "codemirror_mode": {
    "name": "ipython",
    "version": 3
   },
   "file_extension": ".py",
   "mimetype": "text/x-python",
   "name": "python",
   "nbconvert_exporter": "python",
   "pygments_lexer": "ipython3",
   "version": "3.8.13"
  }
 },
 "nbformat": 4,
 "nbformat_minor": 5
}
