{
 "cells": [
  {
   "cell_type": "code",
   "execution_count": 1,
   "id": "aeb7758e-4b8e-43d4-9c42-fa7ebaf640bb",
   "metadata": {},
   "outputs": [
    {
     "name": "stderr",
     "output_type": "stream",
     "text": [
      "2022-11-14 17:35:22,203\tINFO worker.py:1528 -- Started a local Ray instance.\n"
     ]
    },
    {
     "data": {
      "text/html": [
       "<div>\n",
       "    <div style=\"margin-left: 50px;display: flex;flex-direction: row;align-items: center\">\n",
       "        <h3 style=\"color: var(--jp-ui-font-color0)\">Ray</h3>\n",
       "        <svg version=\"1.1\" id=\"ray\" width=\"3em\" viewBox=\"0 0 144.5 144.6\" style=\"margin-left: 3em;margin-right: 3em\">\n",
       "            <g id=\"layer-1\">\n",
       "                <path fill=\"#00a2e9\" class=\"st0\" d=\"M97.3,77.2c-3.8-1.1-6.2,0.9-8.3,5.1c-3.5,6.8-9.9,9.9-17.4,9.6S58,88.1,54.8,81.2c-1.4-3-3-4-6.3-4.1\n",
       "                    c-5.6-0.1-9.9,0.1-13.1,6.4c-3.8,7.6-13.6,10.2-21.8,7.6C5.2,88.4-0.4,80.5,0,71.7c0.1-8.4,5.7-15.8,13.8-18.2\n",
       "                    c8.4-2.6,17.5,0.7,22.3,8c1.3,1.9,1.3,5.2,3.6,5.6c3.9,0.6,8,0.2,12,0.2c1.8,0,1.9-1.6,2.4-2.8c3.5-7.8,9.7-11.8,18-11.9\n",
       "                    c8.2-0.1,14.4,3.9,17.8,11.4c1.3,2.8,2.9,3.6,5.7,3.3c1-0.1,2,0.1,3,0c2.8-0.5,6.4,1.7,8.1-2.7s-2.3-5.5-4.1-7.5\n",
       "                    c-5.1-5.7-10.9-10.8-16.1-16.3C84,38,81.9,37.1,78,38.3C66.7,42,56.2,35.7,53,24.1C50.3,14,57.3,2.8,67.7,0.5\n",
       "                    C78.4-2,89,4.7,91.5,15.3c0.1,0.3,0.1,0.5,0.2,0.8c0.7,3.4,0.7,6.9-0.8,9.8c-1.7,3.2-0.8,5,1.5,7.2c6.7,6.5,13.3,13,19.8,19.7\n",
       "                    c1.8,1.8,3,2.1,5.5,1.2c9.1-3.4,17.9-0.6,23.4,7c4.8,6.9,4.6,16.1-0.4,22.9c-5.4,7.2-14.2,9.9-23.1,6.5c-2.3-0.9-3.5-0.6-5.1,1.1\n",
       "                    c-6.7,6.9-13.6,13.7-20.5,20.4c-1.8,1.8-2.5,3.2-1.4,5.9c3.5,8.7,0.3,18.6-7.7,23.6c-7.9,5-18.2,3.8-24.8-2.9\n",
       "                    c-6.4-6.4-7.4-16.2-2.5-24.3c4.9-7.8,14.5-11,23.1-7.8c3,1.1,4.7,0.5,6.9-1.7C91.7,98.4,98,92.3,104.2,86c1.6-1.6,4.1-2.7,2.6-6.2\n",
       "                    c-1.4-3.3-3.8-2.5-6.2-2.6C99.8,77.2,98.9,77.2,97.3,77.2z M72.1,29.7c5.5,0.1,9.9-4.3,10-9.8c0-0.1,0-0.2,0-0.3\n",
       "                    C81.8,14,77,9.8,71.5,10.2c-5,0.3-9,4.2-9.3,9.2c-0.2,5.5,4,10.1,9.5,10.3C71.8,29.7,72,29.7,72.1,29.7z M72.3,62.3\n",
       "                    c-5.4-0.1-9.9,4.2-10.1,9.7c0,0.2,0,0.3,0,0.5c0.2,5.4,4.5,9.7,9.9,10c5.1,0.1,9.9-4.7,10.1-9.8c0.2-5.5-4-10-9.5-10.3\n",
       "                    C72.6,62.3,72.4,62.3,72.3,62.3z M115,72.5c0.1,5.4,4.5,9.7,9.8,9.9c5.6-0.2,10-4.8,10-10.4c-0.2-5.4-4.6-9.7-10-9.7\n",
       "                    c-5.3-0.1-9.8,4.2-9.9,9.5C115,72.1,115,72.3,115,72.5z M19.5,62.3c-5.4,0.1-9.8,4.4-10,9.8c-0.1,5.1,5.2,10.4,10.2,10.3\n",
       "                    c5.6-0.2,10-4.9,9.8-10.5c-0.1-5.4-4.5-9.7-9.9-9.6C19.6,62.3,19.5,62.3,19.5,62.3z M71.8,134.6c5.9,0.2,10.3-3.9,10.4-9.6\n",
       "                    c0.5-5.5-3.6-10.4-9.1-10.8c-5.5-0.5-10.4,3.6-10.8,9.1c0,0.5,0,0.9,0,1.4c-0.2,5.3,4,9.8,9.3,10\n",
       "                    C71.6,134.6,71.7,134.6,71.8,134.6z\"/>\n",
       "            </g>\n",
       "        </svg>\n",
       "        <table>\n",
       "            <tr>\n",
       "                <td style=\"text-align: left\"><b>Python version:</b></td>\n",
       "                <td style=\"text-align: left\"><b>3.8.13</b></td>\n",
       "            </tr>\n",
       "            <tr>\n",
       "                <td style=\"text-align: left\"><b>Ray version:</b></td>\n",
       "                <td style=\"text-align: left\"><b> 2.1.0</b></td>\n",
       "            </tr>\n",
       "            \n",
       "        </table>\n",
       "    </div>\n",
       "</div>\n"
      ],
      "text/plain": [
       "RayContext(dashboard_url='', python_version='3.8.13', ray_version='2.1.0', ray_commit='be49bde7ee4f6adb3f8710aee0665c27f9f0bb62', address_info={'node_ip_address': '127.0.0.1', 'raylet_ip_address': '127.0.0.1', 'redis_address': None, 'object_store_address': '/tmp/ray/session_2022-11-14_17-35-20_630337_9691/sockets/plasma_store', 'raylet_socket_name': '/tmp/ray/session_2022-11-14_17-35-20_630337_9691/sockets/raylet', 'webui_url': '', 'session_dir': '/tmp/ray/session_2022-11-14_17-35-20_630337_9691', 'metrics_export_port': 62411, 'gcs_address': '127.0.0.1:53235', 'address': '127.0.0.1:53235', 'dashboard_agent_listen_port': 52365, 'node_id': '8374025e629fc6c1676ba3345813a2c8d7d2278d377c2b58a00cc4b3'})"
      ]
     },
     "execution_count": 1,
     "metadata": {},
     "output_type": "execute_result"
    }
   ],
   "source": [
    "import ray \n",
    "\n",
    "ray.init(num_gpus=1)"
   ]
  },
  {
   "cell_type": "code",
   "execution_count": 2,
   "id": "2404575e-63bf-42b8-b0dc-947ad4e67670",
   "metadata": {},
   "outputs": [
    {
     "name": "stderr",
     "output_type": "stream",
     "text": [
      "2022-11-14 17:35:39,067\tINFO worker.py:1528 -- Started a local Ray instance.\n"
     ]
    },
    {
     "data": {
      "text/html": [
       "<div class=\"tuneStatus\">\n",
       "  <div style=\"display: flex;flex-direction: row\">\n",
       "    <div style=\"display: flex;flex-direction: column;\">\n",
       "      <h3>Tune Status</h3>\n",
       "      <table>\n",
       "<tbody>\n",
       "<tr><td>Current time:</td><td>2022-11-14 18:01:31</td></tr>\n",
       "<tr><td>Running for: </td><td>00:25:51.64        </td></tr>\n",
       "<tr><td>Memory:      </td><td>10.3/16.0 GiB      </td></tr>\n",
       "</tbody>\n",
       "</table>\n",
       "    </div>\n",
       "    <div class=\"vDivider\"></div>\n",
       "    <div class=\"systemInfo\">\n",
       "      <h3>System Info</h3>\n",
       "      Using FIFO scheduling algorithm.<br>Resources requested: 0/8 CPUs, 0/1 GPUs, 0.0/6.91 GiB heap, 0.0/2.0 GiB objects\n",
       "    </div>\n",
       "    \n",
       "  </div>\n",
       "  <div class=\"hDivider\"></div>\n",
       "  <div class=\"trialStatus\">\n",
       "    <h3>Trial Status</h3>\n",
       "    <table>\n",
       "<thead>\n",
       "<tr><th>Trial name                    </th><th>status    </th><th>loc           </th><th style=\"text-align: right;\">  iter</th><th style=\"text-align: right;\">  total time (s)</th><th style=\"text-align: right;\">    ts</th><th style=\"text-align: right;\">  reward</th><th style=\"text-align: right;\">  num_recreated_worker\n",
       "s</th><th style=\"text-align: right;\">  episode_reward_max</th><th style=\"text-align: right;\">  episode_reward_min</th></tr>\n",
       "</thead>\n",
       "<tbody>\n",
       "<tr><td>PPO_LunarLander-v2_0c444_00000</td><td>TERMINATED</td><td>127.0.0.1:9759</td><td style=\"text-align: right;\">    83</td><td style=\"text-align: right;\">         1540.99</td><td style=\"text-align: right;\">332000</td><td style=\"text-align: right;\"> 251.193</td><td style=\"text-align: right;\">0</td><td style=\"text-align: right;\">             308.179</td><td style=\"text-align: right;\">             1.39381</td></tr>\n",
       "</tbody>\n",
       "</table>\n",
       "  </div>\n",
       "</div>\n",
       "<style>\n",
       ".tuneStatus {\n",
       "  color: var(--jp-ui-font-color1);\n",
       "}\n",
       ".tuneStatus .systemInfo {\n",
       "  display: flex;\n",
       "  flex-direction: column;\n",
       "}\n",
       ".tuneStatus td {\n",
       "  white-space: nowrap;\n",
       "}\n",
       ".tuneStatus .trialStatus {\n",
       "  display: flex;\n",
       "  flex-direction: column;\n",
       "}\n",
       ".tuneStatus h3 {\n",
       "  font-weight: bold;\n",
       "}\n",
       ".tuneStatus .hDivider {\n",
       "  border-bottom-width: var(--jp-border-width);\n",
       "  border-bottom-color: var(--jp-border-color0);\n",
       "  border-bottom-style: solid;\n",
       "}\n",
       ".tuneStatus .vDivider {\n",
       "  border-left-width: var(--jp-border-width);\n",
       "  border-left-color: var(--jp-border-color0);\n",
       "  border-left-style: solid;\n",
       "  margin: 0.5em 1em 0.5em 1em;\n",
       "}\n",
       "</style>\n"
      ],
      "text/plain": [
       "<IPython.core.display.HTML object>"
      ]
     },
     "metadata": {},
     "output_type": "display_data"
    },
    {
     "data": {
      "text/html": [
       "<div class=\"trialProgress\">\n",
       "  <h3>Trial Progress</h3>\n",
       "  <table>\n",
       "<thead>\n",
       "<tr><th>Trial name                    </th><th style=\"text-align: right;\">  agent_timesteps_total</th><th>counters                                                                                                                                </th><th>custom_metrics  </th><th>date               </th><th>done  </th><th style=\"text-align: right;\">  episode_len_mean</th><th>episode_media  </th><th style=\"text-align: right;\">  episode_reward_max</th><th style=\"text-align: right;\">  episode_reward_mean</th><th style=\"text-align: right;\">  episode_reward_min</th><th style=\"text-align: right;\">  episodes_this_iter</th><th style=\"text-align: right;\">  episodes_total</th><th>experiment_id                   </th><th>hostname                </th><th>info                                                                                                                                                                                                                                                                                                                                                                                                                                                                      </th><th style=\"text-align: right;\">  iterations_since_restore</th><th>node_ip  </th><th style=\"text-align: right;\">  num_agent_steps_sampled</th><th style=\"text-align: right;\">  num_agent_steps_trained</th><th style=\"text-align: right;\">  num_env_steps_sampled</th><th style=\"text-align: right;\">  num_env_steps_sampled_this_iter</th><th style=\"text-align: right;\">  num_env_steps_trained</th><th style=\"text-align: right;\">  num_env_steps_trained_this_iter</th><th style=\"text-align: right;\">  num_faulty_episodes</th><th style=\"text-align: right;\">  num_healthy_workers</th><th style=\"text-align: right;\">  num_recreated_workers</th><th style=\"text-align: right;\">  num_steps_trained_this_iter</th><th>perf                                                                          </th><th style=\"text-align: right;\">  pid</th><th>policy_reward_max  </th><th>policy_reward_mean  </th><th>policy_reward_min  </th><th>sampler_perf                                                                                                                                                                                                   </th><th>sampler_results                                                                                                                                                                                                                                                                                                                                                                                                                                                                                                                                                                                                                                                                                                                                                                                                                                                                                                                                                                                                                                                                                                                                                                                                                                                                                                                                                                                                                                                                                                                                                                                                                                                                                                                                                                                                                                                                                                                                                                                                                                                                                                                                                                                                                                                                                                                                                                                                                                                                                                                                                                                                                                                                                                                                                                                                                                                                                                                                                                                                                                                                                                                                                                         </th><th style=\"text-align: right;\">  time_since_restore</th><th style=\"text-align: right;\">  time_this_iter_s</th><th style=\"text-align: right;\">  time_total_s</th><th>timers                                                                                                                                                                                 </th><th style=\"text-align: right;\">  timestamp</th><th style=\"text-align: right;\">  timesteps_since_restore</th><th style=\"text-align: right;\">  timesteps_total</th><th style=\"text-align: right;\">  training_iteration</th><th>trial_id   </th><th style=\"text-align: right;\">  warmup_time</th></tr>\n",
       "</thead>\n",
       "<tbody>\n",
       "<tr><td>PPO_LunarLander-v2_0c444_00000</td><td style=\"text-align: right;\">                 332000</td><td>{&#x27;num_env_steps_sampled&#x27;: 332000, &#x27;num_env_steps_trained&#x27;: 332000, &#x27;num_agent_steps_sampled&#x27;: 332000, &#x27;num_agent_steps_trained&#x27;: 332000}</td><td>{}              </td><td>2022-11-14_18-01-31</td><td>True  </td><td style=\"text-align: right;\">            298.81</td><td>{}             </td><td style=\"text-align: right;\">             308.179</td><td style=\"text-align: right;\">              251.193</td><td style=\"text-align: right;\">             1.39381</td><td style=\"text-align: right;\">                  12</td><td style=\"text-align: right;\">            1135</td><td>73977bc9121149b7961235f74406c494</td><td>Davids-MacBook-Pro.local</td><td>{&#x27;learner&#x27;: {&#x27;default_policy&#x27;: {&#x27;learner_stats&#x27;: {&#x27;cur_kl_coeff&#x27;: 0.20000000298023224, &#x27;cur_lr&#x27;: 4.999999873689376e-05, &#x27;total_loss&#x27;: 8.935843, &#x27;policy_loss&#x27;: -0.007028516, &#x27;vf_loss&#x27;: 8.942245, &#x27;vf_explained_var&#x27;: -0.31424975, &#x27;kl&#x27;: 0.0031302692, &#x27;entropy&#x27;: 0.65838414, &#x27;entropy_coeff&#x27;: 0.0, &#x27;model&#x27;: {}}, &#x27;train&#x27;: None}}, &#x27;num_env_steps_sampled&#x27;: 332000, &#x27;num_env_steps_trained&#x27;: 332000, &#x27;num_agent_steps_sampled&#x27;: 332000, &#x27;num_agent_steps_trained&#x27;: 332000}</td><td style=\"text-align: right;\">                        83</td><td>127.0.0.1</td><td style=\"text-align: right;\">                   332000</td><td style=\"text-align: right;\">                   332000</td><td style=\"text-align: right;\">                 332000</td><td style=\"text-align: right;\">                             4000</td><td style=\"text-align: right;\">                 332000</td><td style=\"text-align: right;\">                             4000</td><td style=\"text-align: right;\">                    0</td><td style=\"text-align: right;\">                    2</td><td style=\"text-align: right;\">                      0</td><td style=\"text-align: right;\">                         4000</td><td>{&#x27;cpu_util_percent&#x27;: 38.87037037037038, &#x27;ram_util_percent&#x27;: 64.15185185185186}</td><td style=\"text-align: right;\"> 9759</td><td>{}                 </td><td>{}                  </td><td>{}                 </td><td>{&#x27;mean_raw_obs_processing_ms&#x27;: 0.1601326764945736, &#x27;mean_inference_ms&#x27;: 4.187314691157777, &#x27;mean_action_processing_ms&#x27;: 0.0473767497168801, &#x27;mean_env_wait_ms&#x27;: 0.43318341157847284, &#x27;mean_env_render_ms&#x27;: 0.0}</td><td>{&#x27;episode_reward_max&#x27;: 308.1786249161687, &#x27;episode_reward_min&#x27;: 1.3938132851965719, &#x27;episode_reward_mean&#x27;: 251.19291254430166, &#x27;episode_len_mean&#x27;: 298.81, &#x27;episode_media&#x27;: {}, &#x27;episodes_this_iter&#x27;: 12, &#x27;policy_reward_min&#x27;: {}, &#x27;policy_reward_max&#x27;: {}, &#x27;policy_reward_mean&#x27;: {}, &#x27;custom_metrics&#x27;: {}, &#x27;hist_stats&#x27;: {&#x27;episode_reward&#x27;: [278.50992876804804, 249.13046516509831, 285.42422382345865, 308.1786249161687, 279.19237131399063, 280.6714432989439, 252.51606338424864, 209.31325550740002, 1.3938132851965719, 252.25937974465234, 295.9549401561625, 290.77807463954434, 292.0819586560402, 281.3009462672742, 255.0752924204666, 263.97278539280023, 186.8589497946021, 248.05486414637062, 255.29793412278167, 253.64009954395345, 256.2431563937039, 252.67171848313436, 273.9966250266839, 284.3045784197082, 286.62731308569505, 297.04403081669, 255.8825100633388, 263.2956310392441, 245.01501691393565, 263.9226977948465, 267.74553542616485, 239.23242430623387, 251.11326609727132, 280.45913042292113, 229.4166768042906, 81.49435898623074, 263.666366422357, 282.78240423850514, 200.23539883500717, 231.50304427600457, 150.07477331270988, 280.7978001924905, 232.27455371061265, 274.37300880936334, 267.6315795894086, 251.81233689077126, 242.79101459673686, 181.77083931701947, 189.00616237584845, 279.1468086123799, 262.9075661620287, 278.39972140264115, 262.202146953348, 231.6703700547995, 252.9142788884611, 16.108324960117542, 262.20560373142064, 233.51467612700156, 266.184355826431, 255.30266716615515, 229.1343880917675, 255.08697665752035, 276.2837105843396, 279.9340928476405, 266.7911208991543, 252.89118186231272, 293.53900192285704, 267.81294332896215, 267.11488884628886, 304.12830739004255, 246.50752990771196, 272.92177119975184, 250.52814113456662, 297.80750092328066, 276.5393538910248, 264.6550066115549, 272.30292020817535, 245.65941068383611, 266.46437465089457, 291.92529520503115, 257.4643014888552, 288.59283738229277, 264.89345583554905, 274.74201747395693, 235.09576954950364, 280.6095445638396, 261.6028755413852, 296.8684316496339, 229.31588835807278, 221.89310640136893, 243.0876252453735, 265.8436016335572, 278.5723473806484, 209.74691577166683, 285.4236592075359, 56.40093677740019, 292.44253754998897, 244.32164191647547, 254.90759178934704, 302.09236518808933], &#x27;episode_lengths&#x27;: [285, 243, 253, 251, 278, 271, 275, 618, 200, 258, 243, 450, 253, 409, 291, 338, 522, 306, 244, 252, 260, 241, 284, 265, 255, 245, 235, 251, 289, 244, 259, 305, 268, 300, 266, 1000, 293, 327, 389, 263, 483, 248, 238, 253, 253, 279, 243, 418, 458, 314, 278, 262, 269, 294, 279, 214, 257, 249, 233, 368, 273, 254, 278, 292, 279, 264, 273, 275, 272, 386, 254, 282, 241, 263, 298, 261, 236, 245, 252, 270, 307, 233, 251, 261, 250, 229, 264, 303, 256, 257, 246, 282, 288, 344, 245, 1000, 250, 323, 243, 232]}, &#x27;sampler_perf&#x27;: {&#x27;mean_raw_obs_processing_ms&#x27;: 0.1601326764945736, &#x27;mean_inference_ms&#x27;: 4.187314691157777, &#x27;mean_action_processing_ms&#x27;: 0.0473767497168801, &#x27;mean_env_wait_ms&#x27;: 0.43318341157847284, &#x27;mean_env_render_ms&#x27;: 0.0}, &#x27;num_faulty_episodes&#x27;: 0}</td><td style=\"text-align: right;\">             1540.99</td><td style=\"text-align: right;\">           18.7151</td><td style=\"text-align: right;\">       1540.99</td><td>{&#x27;training_iteration_time_ms&#x27;: 18713.091, &#x27;load_time_ms&#x27;: 1.52, &#x27;load_throughput&#x27;: 2630977.293, &#x27;learn_time_ms&#x27;: 8964.294, &#x27;learn_throughput&#x27;: 446.215, &#x27;synch_weights_time_ms&#x27;: 2.229}</td><td style=\"text-align: right;\"> 1668470491</td><td style=\"text-align: right;\">                        0</td><td style=\"text-align: right;\">           332000</td><td style=\"text-align: right;\">                  83</td><td>0c444_00000</td><td style=\"text-align: right;\">      5.14899</td></tr>\n",
       "</tbody>\n",
       "</table>\n",
       "</div>\n",
       "<style>\n",
       ".trialProgress {\n",
       "  display: flex;\n",
       "  flex-direction: column;\n",
       "  color: var(--jp-ui-font-color1);\n",
       "}\n",
       ".trialProgress h3 {\n",
       "  font-weight: bold;\n",
       "}\n",
       ".trialProgress td {\n",
       "  white-space: nowrap;\n",
       "}\n",
       "</style>\n"
      ],
      "text/plain": [
       "<IPython.core.display.HTML object>"
      ]
     },
     "metadata": {},
     "output_type": "display_data"
    },
    {
     "name": "stderr",
     "output_type": "stream",
     "text": [
      "2022-11-14 18:01:31,899\tINFO tune.py:777 -- Total run time: 1552.15 seconds (1551.63 seconds for the tuning loop).\n"
     ]
    }
   ],
   "source": [
    "import ray\n",
    "from ray.rllib.agents.ppo import PPOTrainer\n",
    "config = {\n",
    "    \"env\": \"LunarLander-v2\",\n",
    "    \"num_gpus\":1,\n",
    "}\n",
    "stop = {\"episode_reward_mean\": 250}\n",
    "ray.shutdown()\n",
    "ray.init(\n",
    "  num_gpus=1,\n",
    "  include_dashboard=False,\n",
    "  ignore_reinit_error=True,\n",
    "  log_to_driver=False,\n",
    ")\n",
    "# execute training \n",
    "analysis = ray.tune.run(\n",
    "  \"PPO\",\n",
    "  config=config,\n",
    "  stop=stop,\n",
    "  checkpoint_at_end=True,\n",
    "  local_dir=\"LunarLander_v2\"  \n",
    ")"
   ]
  },
  {
   "cell_type": "code",
   "execution_count": 3,
   "id": "12763183-1ab2-45d8-804b-827f44db7612",
   "metadata": {},
   "outputs": [
    {
     "name": "stderr",
     "output_type": "stream",
     "text": [
      "2022-11-14 18:01:41,607\tINFO algorithm.py:2303 -- Your framework setting is 'tf', meaning you are using static-graph mode. Set framework='tf2' to enable eager execution with tf2.x. You may also then want to set eager_tracing=True in order to reach similar execution speed as with static-graph mode.\n",
      "2022-11-14 18:01:41,608\tINFO ppo.py:379 -- In multi-agent mode, policies will be optimized sequentially by the multi-GPU optimizer. Consider setting simple_optimizer=True if this doesn't work for you.\n",
      "2022-11-14 18:01:41,609\tINFO algorithm.py:457 -- Current log_level is WARN. For more information, set 'log_level': 'INFO' / 'DEBUG' or use the -v and -vv flags.\n"
     ]
    },
    {
     "name": "stdout",
     "output_type": "stream",
     "text": [
      "Metal device set to: Apple M1 Pro\n"
     ]
    },
    {
     "name": "stderr",
     "output_type": "stream",
     "text": [
      "2022-11-14 18:01:46,902\tWARNING util.py:66 -- Install gputil for GPU system monitoring.\n",
      "2022-11-14 18:01:46,952\tINFO trainable.py:766 -- Restored on 127.0.0.1 from checkpoint: /Users/davidkwak/tensorflow-test/gym_env/Box2D/LunarLander_v2/PPO/PPO_LunarLander-v2_0c444_00000_0_2022-11-14_17-35-39/checkpoint_000083\n",
      "2022-11-14 18:01:46,953\tINFO trainable.py:775 -- Current state after restoring: {'_iteration': 83, '_timesteps_total': None, '_time_total': 1540.9871110916138, '_episodes_total': 1135}\n"
     ]
    }
   ],
   "source": [
    "# restore a trainer from the last checkpoint\n",
    "trial = analysis.get_best_logdir(\"episode_reward_mean\", \"max\")\n",
    "checkpoint = analysis.get_best_checkpoint(\n",
    "  trial,\n",
    "  \"training_iteration\",\n",
    "  \"max\",\n",
    ")\n",
    "trainer = PPOTrainer(config=config)\n",
    "trainer.restore(checkpoint)"
   ]
  },
  {
   "cell_type": "code",
   "execution_count": 6,
   "id": "cc57e8c8-5813-477c-8b4d-0ccd413c4e80",
   "metadata": {},
   "outputs": [
    {
     "name": "stderr",
     "output_type": "stream",
     "text": [
      "/Users/davidkwak/tensorflow-test/env/lib/python3.8/site-packages/gym/wrappers/record_video.py:41: UserWarning: \u001b[33mWARN: Overwriting existing videos at /Users/davidkwak/tensorflow-test/gym_env/Box2D/ppo_video folder (try specifying a different `video_folder` for the `RecordVideo` wrapper if this is not desired)\u001b[0m\n",
      "  logger.warn(\n",
      "E1114 18:02:18.243444000 8116724992 fork_posix.cc:76]                  Other threads are currently calling into gRPC, skipping fork() handlers\n",
      "E1114 18:02:18.256518000 8116724992 fork_posix.cc:76]                  Other threads are currently calling into gRPC, skipping fork() handlers\n"
     ]
    }
   ],
   "source": [
    "import gym\n",
    "from gym.wrappers import RecordVideo\n",
    "\n",
    "env = RecordVideo(gym.make(\"LunarLander-v2\"),\"ppo_video\")\n",
    "obs = env.reset()\n",
    "\n",
    "while True:\n",
    "    action = trainer.compute_action(obs)\n",
    "    obs,reward,done, _ = env.step(action)\n",
    "    if done:\n",
    "        break\n",
    "env.close()"
   ]
  },
  {
   "cell_type": "code",
   "execution_count": null,
   "id": "bb42eb09-0a4b-478c-b34a-805d963ce5f7",
   "metadata": {},
   "outputs": [],
   "source": []
  }
 ],
 "metadata": {
  "kernelspec": {
   "display_name": "Python 3 (ipykernel)",
   "language": "python",
   "name": "python3"
  },
  "language_info": {
   "codemirror_mode": {
    "name": "ipython",
    "version": 3
   },
   "file_extension": ".py",
   "mimetype": "text/x-python",
   "name": "python",
   "nbconvert_exporter": "python",
   "pygments_lexer": "ipython3",
   "version": "3.8.13"
  }
 },
 "nbformat": 4,
 "nbformat_minor": 5
}
