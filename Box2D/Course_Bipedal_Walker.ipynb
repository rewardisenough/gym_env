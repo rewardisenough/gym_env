{
 "cells": [
  {
   "cell_type": "code",
   "execution_count": null,
   "id": "8a703f17",
   "metadata": {},
   "outputs": [],
   "source": [
    "# Exercise: Set up the BipedalWalker-v3 environment"
   ]
  },
  {
   "cell_type": "code",
   "execution_count": null,
   "id": "1240d12e",
   "metadata": {},
   "outputs": [],
   "source": [
    "import gym # import gym\n",
    "env = gym.make('BipedalWalker-v3') # Create the BipedalWalker-v3 environment\n",
    "env.reset() # reset to initial state \n",
    "env.render(mode='human') # render to visualize the initial state"
   ]
  },
  {
   "cell_type": "code",
   "execution_count": null,
   "id": "ac59a06c",
   "metadata": {},
   "outputs": [],
   "source": [
    "# Exercise: Interpret the Observation Space"
   ]
  },
  {
   "cell_type": "code",
   "execution_count": null,
   "id": "50d16252",
   "metadata": {},
   "outputs": [],
   "source": [
    "import gym \n",
    "env = gym.make('BipedalWalker-v3')\n",
    "obs = env.reset()\n",
    "print(env.observation_space) # print out the observation space"
   ]
  },
  {
   "cell_type": "code",
   "execution_count": null,
   "id": "328909d4",
   "metadata": {},
   "outputs": [],
   "source": [
    "# Exercise: Taking Actions in BipedalWalker-v3"
   ]
  },
  {
   "cell_type": "code",
   "execution_count": null,
   "id": "f999d24e",
   "metadata": {},
   "outputs": [],
   "source": [
    "import gym\n",
    "\n",
    "env = gym.make('BipedalWalker-v3')\n",
    "obs = env.reset()\n",
    "\n",
    "print(env.action_space) # Print out the action space\n",
    "\n",
    "import numpy as np\n",
    "\n",
    "action = env.action_space.sample() # random action value\n",
    "\n",
    "new_obs,_,_,_ = env.step(action) # execute the action\n",
    "\n",
    "# take action for 200 times\n",
    "for _ in range(200):\n",
    "    obs,_,_,_ = env.step(env.action_space.sample())\n",
    "    env.render(mode='human')"
   ]
  },
  {
   "cell_type": "code",
   "execution_count": null,
   "id": "f4ee784d",
   "metadata": {},
   "outputs": [],
   "source": [
    "# Exercise: Reward for falling down in BipedalWalker-v3"
   ]
  },
  {
   "cell_type": "code",
   "execution_count": null,
   "id": "35807c60",
   "metadata": {},
   "outputs": [],
   "source": [
    "import gym\n",
    "import numpy as np\n",
    "\n",
    "env = gym.make(\"BipedalWalker-v3\")\n",
    "obs = env.reset()\n",
    "\n",
    "for _ in range(200):\n",
    "    obs, reward,_,_ = env.step(env.action_space.sample())\n",
    "    print(reward) # print the reward, reward should -100 when the robot falls down.\n",
    "    env.render(mode='human')\n",
    "env.close()"
   ]
  },
  {
   "cell_type": "code",
   "execution_count": null,
   "id": "4cd76906",
   "metadata": {},
   "outputs": [],
   "source": [
    "# Exercise: Calculate Expected Cumulative Rewards per Episode"
   ]
  },
  {
   "cell_type": "code",
   "execution_count": 4,
   "id": "7996a539",
   "metadata": {},
   "outputs": [
    {
     "name": "stdout",
     "output_type": "stream",
     "text": [
      "The exepected cumulative reward is -111.2362258724875\n"
     ]
    }
   ],
   "source": [
    "import gym\n",
    "import numpy as np\n",
    "\n",
    "env = gym.make('BipedalWalker-v3')\n",
    "num_episodes = 10 # one cycle of start to terminate is considered as one 'episode'\n",
    "cumulative_rewards = np.array([]) # empty numpy array for storing culmative rewards.\n",
    "\n",
    "for ep in range(num_episodes):\n",
    "    cumulative_reward_this_ep = 0\n",
    "    obs = env.reset()\n",
    "    while True:\n",
    "        obs, reward, done, _ = env.step([1,1,1,0]) # Execute the action [1., 1., 1., 0.]; store the reward and whether a terminal state is reached\n",
    "        cumulative_reward_this_ep += reward   # Update the cumulative reward in this episode with the latest stepwise reward \n",
    "        if done:\n",
    "            break\n",
    "    cumulative_rewards = np.append(cumulative_rewards, cumulative_reward_this_ep) # append cumulative_reward_this_ep to array 'cumlative reward'\n",
    "    \n",
    "expected_cumulative_rewards = np.sum(cumulative_rewards)/num_episodes# Calculate the average cumulative reward per episode    \n",
    "\n",
    "print(f\"The exepected cumulative reward is {expected_cumulative_rewards}\") # print out expected_cumulative_rewards"
   ]
  }
 ],
 "metadata": {
  "kernelspec": {
   "display_name": "Python 3 (ipykernel)",
   "language": "python",
   "name": "python3"
  },
  "language_info": {
   "codemirror_mode": {
    "name": "ipython",
    "version": 3
   },
   "file_extension": ".py",
   "mimetype": "text/x-python",
   "name": "python",
   "nbconvert_exporter": "python",
   "pygments_lexer": "ipython3",
   "version": "3.8.13"
  }
 },
 "nbformat": 4,
 "nbformat_minor": 5
}
