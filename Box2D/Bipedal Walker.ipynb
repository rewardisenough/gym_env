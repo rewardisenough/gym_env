{
 "cells": [
  {
   "cell_type": "code",
   "execution_count": 1,
   "id": "6c0acf19",
   "metadata": {},
   "outputs": [],
   "source": [
    "import gym"
   ]
  },
  {
   "cell_type": "code",
   "execution_count": 2,
   "id": "92238054",
   "metadata": {},
   "outputs": [],
   "source": [
    "env = gym.make('BipedalWalker-v3')\n",
    "obs = env.reset()"
   ]
  },
  {
   "cell_type": "code",
   "execution_count": 3,
   "id": "df62a9f5",
   "metadata": {},
   "outputs": [
    {
     "data": {
      "text/plain": [
       "Box([-1. -1. -1. -1.], [1. 1. 1. 1.], (4,), float32)"
      ]
     },
     "execution_count": 3,
     "metadata": {},
     "output_type": "execute_result"
    }
   ],
   "source": [
    "env.action_space"
   ]
  },
  {
   "cell_type": "code",
   "execution_count": 4,
   "id": "fea564e6",
   "metadata": {},
   "outputs": [
    {
     "data": {
      "text/plain": [
       "(array([ 0.00954431,  0.02774404,  0.00690607,  0.01414164,  0.4129763 ,\n",
       "         0.28368896,  0.12590897, -0.9999909 ,  1.        ,  0.3093869 ,\n",
       "        -0.5463486 ,  0.13446105,  0.45954493,  1.        ,  0.45090145,\n",
       "         0.4560221 ,  0.47198182,  0.50075287,  0.546325  ,  0.61624753,\n",
       "         0.7253768 ,  0.9062052 ,  1.        ,  1.        ], dtype=float32),\n",
       " -0.15079021045255284,\n",
       " False,\n",
       " {})"
      ]
     },
     "execution_count": 4,
     "metadata": {},
     "output_type": "execute_result"
    }
   ],
   "source": [
    "import numpy as np\n",
    "action = env.action_space.sample() # random action\n",
    "env.step(action)"
   ]
  },
  {
   "cell_type": "code",
   "execution_count": 5,
   "id": "f02c3599",
   "metadata": {},
   "outputs": [],
   "source": [
    "for _ in range(200):\n",
    "    env.reset()\n",
    "    obs,_,_,_ = env.step(env.action_space.sample())\n",
    "    env.render(mode='human')"
   ]
  },
  {
   "cell_type": "code",
   "execution_count": 6,
   "id": "50bbe22d",
   "metadata": {},
   "outputs": [],
   "source": [
    "env.close()"
   ]
  }
 ],
 "metadata": {
  "kernelspec": {
   "display_name": "Python 3 (ipykernel)",
   "language": "python",
   "name": "python3"
  },
  "language_info": {
   "codemirror_mode": {
    "name": "ipython",
    "version": 3
   },
   "file_extension": ".py",
   "mimetype": "text/x-python",
   "name": "python",
   "nbconvert_exporter": "python",
   "pygments_lexer": "ipython3",
   "version": "3.8.13"
  }
 },
 "nbformat": 4,
 "nbformat_minor": 5
}
