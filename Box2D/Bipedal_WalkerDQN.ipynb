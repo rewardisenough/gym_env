{
 "cells": [
  {
   "cell_type": "code",
   "execution_count": null,
   "id": "889738c7-19b5-4c30-9e2d-4be3e5fd015e",
   "metadata": {},
   "outputs": [],
   "source": [
    "# Import ray in this cell\n",
    "import ray"
   ]
  },
  {
   "cell_type": "code",
   "execution_count": null,
   "id": "8d9c2c9f-a823-4847-974d-4952624a710e",
   "metadata": {},
   "outputs": [],
   "source": [
    "# Initialize ray in this cell\n",
    "ray.init(num_gpus=1)"
   ]
  },
  {
   "cell_type": "code",
   "execution_count": null,
   "id": "4724d152-b86b-455c-97cd-216c0bae279c",
   "metadata": {},
   "outputs": [],
   "source": [
    "# Import the experiment runner below\n",
    "from ray import tune\n",
    "\n",
    "# Run the experiment by filling the required configuration\n",
    "tune.run(\"DQN\",\n",
    "        config={\"env\": \"BipedalWalker-v3\",\n",
    "                \"evaluation_interval\":100,\n",
    "                \"evaluation_duration\":100,\n",
    "                \"num_gpus\":1\n",
    "        },\n",
    "        local_dir=\"bipedalwalker_v1\"\n",
    "    )"
   ]
  },
  {
   "cell_type": "code",
   "execution_count": null,
   "id": "483b4440-f268-4028-8167-2343ce719f74",
   "metadata": {},
   "outputs": [],
   "source": []
  }
 ],
 "metadata": {
  "kernelspec": {
   "display_name": "Python 3 (ipykernel)",
   "language": "python",
   "name": "python3"
  },
  "language_info": {
   "codemirror_mode": {
    "name": "ipython",
    "version": 3
   },
   "file_extension": ".py",
   "mimetype": "text/x-python",
   "name": "python",
   "nbconvert_exporter": "python",
   "pygments_lexer": "ipython3",
   "version": "3.8.13"
  }
 },
 "nbformat": 4,
 "nbformat_minor": 5
}
